{
  "nbformat": 4,
  "nbformat_minor": 0,
  "metadata": {
    "colab": {
      "name": "TFLite model for predict numbers.ipynb",
      "provenance": [],
      "authorship_tag": "ABX9TyPBk0b9m+RR7KGTC2GQAA6Y",
      "include_colab_link": true
    },
    "kernelspec": {
      "name": "python3",
      "display_name": "Python 3"
    },
    "accelerator": "GPU"
  },
  "cells": [
    {
      "cell_type": "markdown",
      "metadata": {
        "id": "view-in-github",
        "colab_type": "text"
      },
      "source": [
        "<a href=\"https://colab.research.google.com/github/ashikdas-MobileCastle/TFLite-DigitRecognizer/blob/master/TFLite_model_for_predict_numbers.ipynb\" target=\"_parent\"><img src=\"https://colab.research.google.com/assets/colab-badge.svg\" alt=\"Open In Colab\"/></a>"
      ]
    },
    {
      "cell_type": "code",
      "metadata": {
        "id": "vd6GFSVfZj6L",
        "colab_type": "code",
        "outputId": "88fcf89a-795d-4b48-cf17-3b526f367e04",
        "colab": {
          "base_uri": "https://localhost:8080/",
          "height": 35
        }
      },
      "source": [
        "%tensorflow_version 2.x\n",
        "import tensorflow as tf\n",
        "import numpy as np\n",
        "keras = tf.keras\n",
        "import matplotlib.pyplot as plt"
      ],
      "execution_count": 0,
      "outputs": [
        {
          "output_type": "stream",
          "text": [
            "TensorFlow 2.x selected.\n"
          ],
          "name": "stdout"
        }
      ]
    },
    {
      "cell_type": "markdown",
      "metadata": {
        "id": "6aWFyjG1nFq8",
        "colab_type": "text"
      },
      "source": [
        "Load MNIST Dataset"
      ]
    },
    {
      "cell_type": "code",
      "metadata": {
        "id": "4cGzHWWAnMsd",
        "colab_type": "code",
        "colab": {}
      },
      "source": [
        "#Load mnist from keras datasets\n",
        "mnist = keras.datasets.mnist"
      ],
      "execution_count": 0,
      "outputs": []
    },
    {
      "cell_type": "code",
      "metadata": {
        "id": "oP09H80LnUIr",
        "colab_type": "code",
        "outputId": "a0981e75-1c96-4b43-fc2b-bf87603e74b8",
        "colab": {
          "base_uri": "https://localhost:8080/",
          "height": 72
        }
      },
      "source": [
        "#get the training and testing data\n",
        "(x_train, y_train), (x_test, y_test) = mnist.load_data()"
      ],
      "execution_count": 0,
      "outputs": [
        {
          "output_type": "stream",
          "text": [
            "Downloading data from https://storage.googleapis.com/tensorflow/tf-keras-datasets/mnist.npz\n",
            "11493376/11490434 [==============================] - 0s 0us/step\n"
          ],
          "name": "stdout"
        }
      ]
    },
    {
      "cell_type": "code",
      "metadata": {
        "id": "-tbClurUnVaO",
        "colab_type": "code",
        "outputId": "8f5c7ac9-a502-463c-ecc3-b3bb7f75c526",
        "colab": {
          "base_uri": "https://localhost:8080/",
          "height": 52
        }
      },
      "source": [
        "#inspect the training and testing data shape\n",
        "print('x train shape', x_train.shape, 'y train shape', y_train.shape)\n",
        "print('x test shape', x_test.shape, 'y test shape', y_test.shape)"
      ],
      "execution_count": 0,
      "outputs": [
        {
          "output_type": "stream",
          "text": [
            "x train shape (60000, 28, 28) y train shape (60000,)\n",
            "x test shape (10000, 28, 28) y test shape (10000,)\n"
          ],
          "name": "stdout"
        }
      ]
    },
    {
      "cell_type": "code",
      "metadata": {
        "id": "u2hBjYTYor6N",
        "colab_type": "code",
        "outputId": "3ae44c6c-834d-4ce2-d821-7d5048bbec14",
        "colab": {
          "base_uri": "https://localhost:8080/",
          "height": 283
        }
      },
      "source": [
        "plt.imshow(x_train[31], cmap='gray')"
      ],
      "execution_count": 0,
      "outputs": [
        {
          "output_type": "execute_result",
          "data": {
            "text/plain": [
              "<matplotlib.image.AxesImage at 0x7f097cb78898>"
            ]
          },
          "metadata": {
            "tags": []
          },
          "execution_count": 5
        },
        {
          "output_type": "display_data",
          "data": {
            "image/png": "[encoded data removed]",
            "text/plain": [
              "<Figure size 432x288 with 1 Axes>"
            ]
          },
          "metadata": {
            "tags": []
          }
        }
      ]
    },
    {
      "cell_type": "code",
      "metadata": {
        "id": "7mZcmOcppKTd",
        "colab_type": "code",
        "outputId": "50c52b92-0820-4e89-fe4c-f419da3a75a0",
        "colab": {
          "base_uri": "https://localhost:8080/",
          "height": 988
        }
      },
      "source": [
        "print(x_train[30])"
      ],
      "execution_count": 0,
      "outputs": [
        {
          "output_type": "stream",
          "text": [
            "[[  0   0   0   0   0   0   0   0   0   0   0   0   0   0   0   0   0   0\n",
            "    0   0   0   0   0   0   0   0   0   0]\n",
            " [  0   0   0   0   0   0   0   0   0   0   0   0   0   0   0   0   0   0\n",
            "    0   0   0   0   0   0   0   0   0   0]\n",
            " [  0   0   0   0   0   0   0   0   0   0   0   0   0   0   0   0   0   0\n",
            "    0   0   0   0   0   0   0   0   0   0]\n",
            " [  0   0   0   0   0   0   0   0   0   0   0   0   0   0   0   0   0   0\n",
            "    0   0   0   0   0   0   0   0   0   0]\n",
            " [  0   0   0   0   0   0   0   0   0   0   0   0   0   0   0   0   0   0\n",
            "    0   0   0   0   0   0   0   0   0   0]\n",
            " [  0   0   0   0   0   0   0   0   0   0   0   0   0   0   0   0   0   0\n",
            "    0   0   0   0   0   0   0   0   0   0]\n",
            " [  0   0   0   0   0   0   0   0   0   0   0   0   0   0   0   0   0   0\n",
            "    0   0   0   0   0   0   0   0   0   0]\n",
            " [  0   0   0   0   0  11  19  95 143 143 143 143 143 143 143 143  33   0\n",
            "    0   0   0   0   0   0   0   0   0   0]\n",
            " [  0   0   0  90 149 208 253 253 253 253 253 253 253 253 253 253 217  22\n",
            "    0   0   0   0   0   0   0   0   0   0]\n",
            " [  0   0   0 255 253 251 222 222 161 140  99  99  99  99 143 253 253 113\n",
            "    0   0   0   0   0   0   0   0   0   0]\n",
            " [  0   0   0 217 210  86   0   0   0   0   0   0   0  29 161 253 253  82\n",
            "    0   0   0   0   0   0   0   0   0   0]\n",
            " [  0   0   0   0   0   0   0   0   0   0   0   0  33 203 253 253 174  13\n",
            "    0   0   0   0   0   0   0   0   0   0]\n",
            " [  0   0   0   0   0   0   0   0   0   0  10  78 232 253 253 253  43   0\n",
            "    0   0   0   0   0   0   0   0   0   0]\n",
            " [  0   0   0   0   0   0   0   0   0   0 138 253 253 253 253 253 192 180\n",
            "  180 128  32   0   0   0   0   0   0   0]\n",
            " [  0   0   0   0   0   0   0   0   0   0 174 253 253 253 253 253 253 253\n",
            "  253 253 169   3   0   0   0   0   0   0]\n",
            " [  0   0   0   0   0   0   0   0   0   0  42  61  61  61  61  83 176  79\n",
            "  110 247 253 195   4   0   0   0   0   0]\n",
            " [  0   0   0   0   0   0   0   0   0   0   0   0   0   0  59 192  30   0\n",
            "    0  50 203 253  42   0   0   0   0   0]\n",
            " [  0   0   0   0   0   0   0   0   0   0   0   0   0  56 195  57   0   0\n",
            "    0   0 112 253 229   0   0   0   0   0]\n",
            " [  0   0   0   0   0   0   0   0   0   0   0   0   0 172 204  17   0   0\n",
            "    0   0  58 248 253   0   0   0   0   0]\n",
            " [  0   0   0   0   0   0   0   0   0   0   0   0   0 192 253 184  62   0\n",
            "    0  85 164 253 253   0   0   0   0   0]\n",
            " [  0   0   0   0   0   0   0   0   0   0   0   0   0 144 253 253 243 223\n",
            "  223 250 253 253  96   0   0   0   0   0]\n",
            " [  0   0   0   0   0   0   0   0   0   0   0   0   0   7 152 253 253 253\n",
            "  253 253 253 152   3   0   0   0   0   0]\n",
            " [  0   0   0   0   0   0   0   0   0   0   0   0   0   0   6  18 122 141\n",
            "  141 141  87   1   0   0   0   0   0   0]\n",
            " [  0   0   0   0   0   0   0   0   0   0   0   0   0   0   0   0   0   0\n",
            "    0   0   0   0   0   0   0   0   0   0]\n",
            " [  0   0   0   0   0   0   0   0   0   0   0   0   0   0   0   0   0   0\n",
            "    0   0   0   0   0   0   0   0   0   0]\n",
            " [  0   0   0   0   0   0   0   0   0   0   0   0   0   0   0   0   0   0\n",
            "    0   0   0   0   0   0   0   0   0   0]\n",
            " [  0   0   0   0   0   0   0   0   0   0   0   0   0   0   0   0   0   0\n",
            "    0   0   0   0   0   0   0   0   0   0]\n",
            " [  0   0   0   0   0   0   0   0   0   0   0   0   0   0   0   0   0   0\n",
            "    0   0   0   0   0   0   0   0   0   0]]\n"
          ],
          "name": "stdout"
        }
      ]
    },
    {
      "cell_type": "code",
      "metadata": {
        "id": "cbnoXf1qpv01",
        "colab_type": "code",
        "outputId": "0efc4726-6eec-4db0-d35c-ebf987fc18a9",
        "colab": {
          "base_uri": "https://localhost:8080/",
          "height": 35
        }
      },
      "source": [
        "x_train.dtype"
      ],
      "execution_count": 0,
      "outputs": [
        {
          "output_type": "execute_result",
          "data": {
            "text/plain": [
              "dtype('uint8')"
            ]
          },
          "metadata": {
            "tags": []
          },
          "execution_count": 7
        }
      ]
    },
    {
      "cell_type": "code",
      "metadata": {
        "id": "n23Dr2mpp5v_",
        "colab_type": "code",
        "colab": {}
      },
      "source": [
        "#convert data to float32 and normalize the input data\n",
        "x_train = x_train.astype('float32')/255\n",
        "x_test = x_test.astype('float32')/255"
      ],
      "execution_count": 0,
      "outputs": []
    },
    {
      "cell_type": "code",
      "metadata": {
        "id": "QYXDMhmGqj1x",
        "colab_type": "code",
        "outputId": "02b1b8a8-fd60-40d5-8a41-f9ce7d9c2855",
        "colab": {
          "base_uri": "https://localhost:8080/",
          "height": 35
        }
      },
      "source": [
        "x_train.dtype"
      ],
      "execution_count": 0,
      "outputs": [
        {
          "output_type": "execute_result",
          "data": {
            "text/plain": [
              "dtype('float32')"
            ]
          },
          "metadata": {
            "tags": []
          },
          "execution_count": 9
        }
      ]
    },
    {
      "cell_type": "code",
      "metadata": {
        "id": "tX4aPgo1qqhE",
        "colab_type": "code",
        "colab": {}
      },
      "source": [
        "#Reshape input from (28,28) to (28,28,1)\n",
        "x_train = x_train.reshape(x_train.shape[0], 28, 28, 1)\n",
        "x_test = x_test.reshape(x_test.shape[0], 28, 28, 1)"
      ],
      "execution_count": 0,
      "outputs": []
    },
    {
      "cell_type": "code",
      "metadata": {
        "id": "hKiW0tgBrYF7",
        "colab_type": "code",
        "outputId": "ea859098-40a2-42c8-ff60-135ce3420661",
        "colab": {
          "base_uri": "https://localhost:8080/",
          "height": 52
        }
      },
      "source": [
        "#inspect the training and testing data shape\n",
        "print('x train shape', x_train.shape, 'y train shape', y_train.shape)\n",
        "print('x test shape', x_test.shape, 'y test shape', y_test.shape)"
      ],
      "execution_count": 0,
      "outputs": [
        {
          "output_type": "stream",
          "text": [
            "x train shape (60000, 28, 28, 1) y train shape (60000,)\n",
            "x test shape (10000, 28, 28, 1) y test shape (10000,)\n"
          ],
          "name": "stdout"
        }
      ]
    },
    {
      "cell_type": "code",
      "metadata": {
        "id": "_o4sX3ibrs07",
        "colab_type": "code",
        "colab": {}
      },
      "source": [
        "#one-hot encode the labels\n",
        "y_train = keras.utils.to_categorical(y_train, 10)\n",
        "y_test = keras.utils.to_categorical(y_test, 10)"
      ],
      "execution_count": 0,
      "outputs": []
    },
    {
      "cell_type": "code",
      "metadata": {
        "id": "rU6B5Ws-sRCC",
        "colab_type": "code",
        "colab": {}
      },
      "source": [
        ""
      ],
      "execution_count": 0,
      "outputs": []
    },
    {
      "cell_type": "markdown",
      "metadata": {
        "id": "6_iJig9bZVCJ",
        "colab_type": "text"
      },
      "source": [
        "Model Training"
      ]
    },
    {
      "cell_type": "code",
      "metadata": {
        "id": "m5Dx080jZeMI",
        "colab_type": "code",
        "colab": {}
      },
      "source": [
        "def create_model():\n",
        "  # Define the model architecture\n",
        "  model = keras.models.Sequential([\n",
        "    # Must define the input shape in the first layer of the neural network\n",
        "    keras.layers.Conv2D(filters=32, kernel_size=3, padding='same', activation='relu', input_shape=(28,28,1)),\n",
        "    keras.layers.MaxPooling2D(pool_size=2),\n",
        "\n",
        "    keras.layers.Conv2D(filters=64, kernel_size=3, padding='same', activation='relu'),\n",
        "    keras.layers.MaxPooling2D(pool_size=2),\n",
        "\n",
        "    keras.layers.Flatten(),\n",
        "    keras.layers.Dense(10, activation='softmax') # Correspond to 10 classes we want to classify \n",
        "  ])\n",
        "\n",
        "  # Compile the model\n",
        "  model.compile(loss=keras.losses.categorical_crossentropy,\n",
        "                optimizer=keras.optimizers.Adam(),\n",
        "                metrics=['accuracy'])\n",
        "  return model"
      ],
      "execution_count": 0,
      "outputs": []
    },
    {
      "cell_type": "code",
      "metadata": {
        "id": "8a4FCOakctmU",
        "colab_type": "code",
        "outputId": "b36d825b-4fb5-49c3-db1b-52799ac9c5a5",
        "colab": {
          "base_uri": "https://localhost:8080/",
          "height": 364
        }
      },
      "source": [
        "model = create_model()\n",
        "\n",
        "# Take a look at the model summery\n",
        "model.summary()"
      ],
      "execution_count": 0,
      "outputs": [
        {
          "output_type": "stream",
          "text": [
            "Model: \"sequential_3\"\n",
            "_________________________________________________________________\n",
            "Layer (type)                 Output Shape              Param #   \n",
            "=================================================================\n",
            "conv2d_6 (Conv2D)            (None, 28, 28, 32)        320       \n",
            "_________________________________________________________________\n",
            "max_pooling2d_6 (MaxPooling2 (None, 14, 14, 32)        0         \n",
            "_________________________________________________________________\n",
            "conv2d_7 (Conv2D)            (None, 14, 14, 64)        18496     \n",
            "_________________________________________________________________\n",
            "max_pooling2d_7 (MaxPooling2 (None, 7, 7, 64)          0         \n",
            "_________________________________________________________________\n",
            "flatten_3 (Flatten)          (None, 3136)              0         \n",
            "_________________________________________________________________\n",
            "dense_3 (Dense)              (None, 10)                31370     \n",
            "=================================================================\n",
            "Total params: 50,186\n",
            "Trainable params: 50,186\n",
            "Non-trainable params: 0\n",
            "_________________________________________________________________\n"
          ],
          "name": "stdout"
        }
      ]
    },
    {
      "cell_type": "code",
      "metadata": {
        "id": "F_RdlM_WdZfd",
        "colab_type": "code",
        "outputId": "14d9181e-bf8f-41a1-cead-27302c83c818",
        "colab": {
          "base_uri": "https://localhost:8080/",
          "height": 211
        }
      },
      "source": [
        "%%time\n",
        "model.fit(x_train,\n",
        "          y_train,\n",
        "          batch_size=64,\n",
        "          epochs=3)"
      ],
      "execution_count": 0,
      "outputs": [
        {
          "output_type": "stream",
          "text": [
            "Train on 60000 samples\n",
            "Epoch 1/3\n",
            "60000/60000 [==============================] - 10s 161us/sample - loss: 0.1933 - accuracy: 0.9428\n",
            "Epoch 2/3\n",
            "60000/60000 [==============================] - 3s 51us/sample - loss: 0.0552 - accuracy: 0.9828\n",
            "Epoch 3/3\n",
            "60000/60000 [==============================] - 3s 52us/sample - loss: 0.0409 - accuracy: 0.9874\n",
            "CPU times: user 11.3 s, sys: 1.69 s, total: 13 s\n",
            "Wall time: 15.9 s\n"
          ],
          "name": "stdout"
        },
        {
          "output_type": "execute_result",
          "data": {
            "text/plain": [
              "<tensorflow.python.keras.callbacks.History at 0x7f09701b2a58>"
            ]
          },
          "metadata": {
            "tags": []
          },
          "execution_count": 23
        }
      ]
    },
    {
      "cell_type": "markdown",
      "metadata": {
        "id": "HIqsK-vbeeK0",
        "colab_type": "text"
      },
      "source": [
        "**Model Evaluation**"
      ]
    },
    {
      "cell_type": "code",
      "metadata": {
        "id": "ZysEhkooeh6M",
        "colab_type": "code",
        "outputId": "36493c5e-bf6b-47dc-cd12-cc2d5d13bdf1",
        "colab": {
          "base_uri": "https://localhost:8080/",
          "height": 89
        }
      },
      "source": [
        "test_loss, test_accuracy = model.evaluate(x_test, y_test)\n",
        "\n",
        "print('Test loss', test_loss)\n",
        "print('Test accuracy', test_accuracy)"
      ],
      "execution_count": 0,
      "outputs": [
        {
          "output_type": "stream",
          "text": [
            "10000/10000 [==============================] - 1s 76us/sample - loss: 0.0376 - accuracy: 0.9873\n",
            "Test loss 0.037583154448727146\n",
            "Test accuracy 0.9873\n"
          ],
          "name": "stdout"
        }
      ]
    },
    {
      "cell_type": "code",
      "metadata": {
        "id": "tLSWHC86e53K",
        "colab_type": "code",
        "colab": {}
      },
      "source": [
        "predictions = model.predict(x_test)"
      ],
      "execution_count": 0,
      "outputs": []
    },
    {
      "cell_type": "code",
      "metadata": {
        "id": "33PEinMKf9x3",
        "colab_type": "code",
        "colab": {}
      },
      "source": [
        "index = 124"
      ],
      "execution_count": 0,
      "outputs": []
    },
    {
      "cell_type": "code",
      "metadata": {
        "id": "zeglaJW-gXbg",
        "colab_type": "code",
        "outputId": "e79393ec-a969-48b3-e2f8-8ef5c927ed1b",
        "colab": {
          "base_uri": "https://localhost:8080/",
          "height": 35
        }
      },
      "source": [
        "np.argmax(predictions[index])"
      ],
      "execution_count": 0,
      "outputs": [
        {
          "output_type": "execute_result",
          "data": {
            "text/plain": [
              "7"
            ]
          },
          "metadata": {
            "tags": []
          },
          "execution_count": 36
        }
      ]
    },
    {
      "cell_type": "code",
      "metadata": {
        "id": "TaRPfSIEgcNu",
        "colab_type": "code",
        "outputId": "7366ac4a-a1c7-4d53-b4ef-f01c39b8a65a",
        "colab": {
          "base_uri": "https://localhost:8080/",
          "height": 283
        }
      },
      "source": [
        "plt.imshow(np.squeeze(x_test[index]))"
      ],
      "execution_count": 0,
      "outputs": [
        {
          "output_type": "execute_result",
          "data": {
            "text/plain": [
              "<matplotlib.image.AxesImage at 0x7f093c705550>"
            ]
          },
          "metadata": {
            "tags": []
          },
          "execution_count": 37
        },
        {
          "output_type": "display_data",
          "data": {
            "image/png": "[encoded data removed]",
            "text/plain": [
              "<Figure size 432x288 with 1 Axes>"
            ]
          },
          "metadata": {
            "tags": []
          }
        }
      ]
    },
    {
      "cell_type": "markdown",
      "metadata": {
        "id": "Dwczb8Q6g_zw",
        "colab_type": "text"
      },
      "source": [
        "**Model Conversion tf.Keras to TFLite**"
      ]
    },
    {
      "cell_type": "code",
      "metadata": {
        "id": "ownHPl6whDXC",
        "colab_type": "code",
        "colab": {}
      },
      "source": [
        "converter = tf.lite.TFLiteConverter.from_keras_model(model)"
      ],
      "execution_count": 0,
      "outputs": []
    },
    {
      "cell_type": "code",
      "metadata": {
        "id": "E8iGnImvhbLS",
        "colab_type": "code",
        "colab": {}
      },
      "source": [
        "tflite_model = converter.convert()"
      ],
      "execution_count": 0,
      "outputs": []
    },
    {
      "cell_type": "markdown",
      "metadata": {
        "id": "_McZwUL9hmUP",
        "colab_type": "text"
      },
      "source": [
        "**Evaluate the TFLite model**"
      ]
    },
    {
      "cell_type": "code",
      "metadata": {
        "id": "fRGDDkdjhtqX",
        "colab_type": "code",
        "outputId": "9842cf33-561a-4136-d0fd-f4767c9fc13e",
        "colab": {
          "base_uri": "https://localhost:8080/",
          "height": 35
        }
      },
      "source": [
        "index = 8\n",
        "test_image = x_test[index]\n",
        "test_image.shape"
      ],
      "execution_count": 0,
      "outputs": [
        {
          "output_type": "execute_result",
          "data": {
            "text/plain": [
              "(28, 28, 1)"
            ]
          },
          "metadata": {
            "tags": []
          },
          "execution_count": 40
        }
      ]
    },
    {
      "cell_type": "code",
      "metadata": {
        "id": "BwWkV-QJiJol",
        "colab_type": "code",
        "outputId": "a04476cb-5971-4515-b685-8b6b142d9d04",
        "colab": {
          "base_uri": "https://localhost:8080/",
          "height": 35
        }
      },
      "source": [
        "# Add batch dimension since a tensor expects the shape of (batch, image, image width, color channel)\n",
        "test_image = np.expand_dims(test_image, axis = 0).astype(np.float32)\n",
        "test_image.shape"
      ],
      "execution_count": 0,
      "outputs": [
        {
          "output_type": "execute_result",
          "data": {
            "text/plain": [
              "(1, 28, 28, 1)"
            ]
          },
          "metadata": {
            "tags": []
          },
          "execution_count": 41
        }
      ]
    },
    {
      "cell_type": "markdown",
      "metadata": {
        "id": "UGhE5xDdi7lU",
        "colab_type": "text"
      },
      "source": [
        "Below show are some bollerplate low level TensorFlow code for running the interpreter"
      ]
    },
    {
      "cell_type": "code",
      "metadata": {
        "id": "THKIHnRbjLmF",
        "colab_type": "code",
        "colab": {}
      },
      "source": [
        "# load TFLite model and allocate tensors\n",
        "interpreter = tf.lite.Interpreter(model_content=tflite_model)\n",
        "interpreter.allocate_tensors()\n",
        "\n",
        "# Get input and output tensor index\n",
        "input_tensor_index = interpreter.get_input_details()[0]['index']\n",
        "output_tensor_index = interpreter.get_output_details()[0]['index']\n",
        "\n",
        "# Set the value of the input tensor as the test image\n",
        "interpreter.set_tensor(input_tensor_index, test_image)\n",
        "\n",
        "# Run inference with the interpreter\n",
        "interpreter.invoke()"
      ],
      "execution_count": 0,
      "outputs": []
    },
    {
      "cell_type": "markdown",
      "metadata": {
        "id": "wlWZVCEXlLAg",
        "colab_type": "text"
      },
      "source": [
        "Compareing of the tflite model prediction with the original tf.Keras model prediction"
      ]
    },
    {
      "cell_type": "code",
      "metadata": {
        "id": "fA2CvWNclVvb",
        "colab_type": "code",
        "outputId": "24660611-9ced-46c0-a817-adb563b7fc6c",
        "colab": {
          "base_uri": "https://localhost:8080/",
          "height": 35
        }
      },
      "source": [
        "# A digit that the tflite model predicts\n",
        "tflite_prediction = interpreter.get_tensor(output_tensor_index)\n",
        "np.argmax(tflite_prediction)"
      ],
      "execution_count": 0,
      "outputs": [
        {
          "output_type": "execute_result",
          "data": {
            "text/plain": [
              "5"
            ]
          },
          "metadata": {
            "tags": []
          },
          "execution_count": 44
        }
      ]
    },
    {
      "cell_type": "code",
      "metadata": {
        "id": "TOsNTvAZlmTm",
        "colab_type": "code",
        "outputId": "392543bc-b18e-4c01-9756-98d108cc3a1a",
        "colab": {
          "base_uri": "https://localhost:8080/",
          "height": 35
        }
      },
      "source": [
        "# A digit that the tf.Keras model predicts\n",
        "model_prediction = model(tf.constant(test_image))\n",
        "np.argmax(model_prediction)"
      ],
      "execution_count": 0,
      "outputs": [
        {
          "output_type": "execute_result",
          "data": {
            "text/plain": [
              "5"
            ]
          },
          "metadata": {
            "tags": []
          },
          "execution_count": 45
        }
      ]
    },
    {
      "cell_type": "markdown",
      "metadata": {
        "id": "mL5InUbnmI0Q",
        "colab_type": "text"
      },
      "source": [
        "Save and download the TFLite model"
      ]
    },
    {
      "cell_type": "markdown",
      "metadata": {
        "id": "wQ7XIP-NmQF9",
        "colab_type": "text"
      },
      "source": [
        "Saving the TFLite model into a file"
      ]
    },
    {
      "cell_type": "code",
      "metadata": {
        "id": "UWOTXScPmX0p",
        "colab_type": "code",
        "colab": {}
      },
      "source": [
        "tflite_model_filename = 'mnist.tflite'\n",
        "# Open a file for writing in binary mode\n",
        "file = open(tflite_model_filename, 'wb')\n",
        "# Write to the file\n",
        "file.write(tflite_model)\n",
        "file.close()"
      ],
      "execution_count": 0,
      "outputs": []
    },
    {
      "cell_type": "markdown",
      "metadata": {
        "id": "jPQhZOCKm-oH",
        "colab_type": "text"
      },
      "source": [
        "Download the tflite model"
      ]
    },
    {
      "cell_type": "code",
      "metadata": {
        "id": "4xKCKIQdnC-M",
        "colab_type": "code",
        "outputId": "3a5e3527-c7ab-43fc-c343-4d1707096a50",
        "colab": {
          "base_uri": "https://localhost:8080/",
          "height": 35
        }
      },
      "source": [
        "import os\n",
        "os.listdir('.')"
      ],
      "execution_count": 0,
      "outputs": [
        {
          "output_type": "execute_result",
          "data": {
            "text/plain": [
              "['.config', 'mnist.tflite', 'sample_data']"
            ]
          },
          "metadata": {
            "tags": []
          },
          "execution_count": 50
        }
      ]
    },
    {
      "cell_type": "code",
      "metadata": {
        "id": "19kvh791nP0L",
        "colab_type": "code",
        "colab": {}
      },
      "source": [
        "# Download the .tflite model file for deployment to android\n",
        "from google.colab import files\n",
        "files.download(tflite_model_filename)"
      ],
      "execution_count": 0,
      "outputs": []
    }
  ]
}